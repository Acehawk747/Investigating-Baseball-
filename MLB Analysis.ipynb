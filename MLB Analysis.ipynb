{
 "cells": [
  {
   "cell_type": "markdown",
   "metadata": {},
   "source": [
    "# How exactly does a teams performance at the plate effect winning?"
   ]
  },
  {
   "cell_type": "markdown",
   "metadata": {},
   "source": [
    "This analysis is on the data made available through <a href = http://www.seanlahman.com/baseball-archive/statistics/>Laman's Baseball Database</a>. This is a comprehensive database of baseball statistics for Major League Baseball from 1871 through 2015. \n",
    "***"
   ]
  },
  {
   "cell_type": "markdown",
   "metadata": {},
   "source": [
    "# Question 1: In the history of baseball, who are the top 10 players of the past 20 years in Batting Average and On Base Percentage? (Minimum 200 At Bats)\n",
    "\n",
    "Who doesn't like a leaderboard. Some of the best players in baseball history have had historic seasons. We'd like to define who they are for two of the most intriguing categories of them all. Average. On Base Percentage. We want to know who are the Kings of Kings.\n",
    "\n",
    "***"
   ]
  },
  {
   "cell_type": "markdown",
   "metadata": {},
   "source": [
    "# Question 2: Since the year 2000, what metric directly relates to a team's winning percentage: Getting a hit (Avg) or Getting on base (OBP)?\n",
    "\n",
    "Billy Beane, a General Manager of the Oakland Athletics in the 1990's had an approach that went against what a lot of conventional wisdom suggested. He didn't care if a player batter .214 (Meaning out of 1000 times that a player went to the plate and did not walk, he got a hit 214 times), or if the player batted .301. What mattered to Billy Beane was that the player got on base. Walks. Hits. Getting hit by pitch. What mattered to him wasn't if the player got a hit, rather how he would end up touching first base, or better safely. \n",
    "\n",
    "This idea, while not exclusive, was the crux of why many industry experts considered Billy Beane to be wrong, and even question his sanity. Billy Beane however found tremendous success with this method. To this day, it's debated amongst the baseball community.\n",
    "\n",
    "***"
   ]
  },
  {
   "cell_type": "markdown",
   "metadata": {},
   "source": [
    "# Question 3: Since the beginning of baseball history, does a team's ability to hit homeruns translate into victories?\n",
    "\n",
    "Everyone who enjoys baseball, enjoys a great homerun. They are exciting, and bring energy to the game. We are enjoying in 2017 one of the most explosive seasons for homeruns in quite some time. Logically, it would make sense to assume that a team that hits more homeruns, will win more often. They hit a homerun, they will have more runs scored, and therefore be more likely to \n",
    "win a game. However, I don't believe it is that simple. There are multiple facets to a player's game, and I believe that too great a reliance on the homerun, will harm a team's chances to win. I'd like to investigate this idea.\n",
    "\n",
    "***"
   ]
  },
  {
   "cell_type": "markdown",
   "metadata": {},
   "source": [
    "### Disclosures"
   ]
  },
  {
   "cell_type": "markdown",
   "metadata": {},
   "source": [
    "#### Data for this analysis\n",
    "\n",
    "I will utilize the following data sets for this analysis.\n",
    "\n",
    "- Teams.csv\n",
    "- Batting.csv\n",
    "- Master.csv"
   ]
  },
  {
   "cell_type": "markdown",
   "metadata": {},
   "source": [
    "#### Defining Baseball Offensive Statistics"
   ]
  },
  {
   "cell_type": "markdown",
   "metadata": {},
   "source": [
    "$$ Win\\hspace{.1cm}Percentage = \\frac{Wins}{Wins + Losses} $$"
   ]
  },
  {
   "cell_type": "markdown",
   "metadata": {},
   "source": [
    "$$ \\begin{align} Average = \\frac{Hits}{At\\hspace{.1cm}Bats}\\end{align} $$"
   ]
  },
  {
   "cell_type": "markdown",
   "metadata": {},
   "source": [
    "\n",
    "$$ On\\hspace{.1cm}Base\\hspace{.1cm}Percentage = \\frac{Hits + Walks + Hit\\hspace{.1cm}by\\hspace{.1cm}Pitch}{At\\hspace{.1cm}Bats + Walks + Hit\\hspace{.1cm}by\\hspace{.1cm}Pitch + Sacrifice\\hspace{.1cm}Flies} $$\n",
    "\n",
    "***"
   ]
  },
  {
   "cell_type": "markdown",
   "metadata": {},
   "source": [
    "## Initiating Analysis"
   ]
  },
  {
   "cell_type": "markdown",
   "metadata": {},
   "source": [
    "#### Import Modules"
   ]
  },
  {
   "cell_type": "code",
   "execution_count": 1,
   "metadata": {
    "collapsed": true
   },
   "outputs": [],
   "source": [
    "#Importing Necessary Packages\n",
    "import numpy as np\n",
    "import pandas as pd\n",
    "import matplotlib.pyplot as plt\n",
    "import seaborn as sns\n",
    "%matplotlib inline"
   ]
  },
  {
   "cell_type": "markdown",
   "metadata": {},
   "source": [
    "#### Obtain Data"
   ]
  },
  {
   "cell_type": "code",
   "execution_count": 2,
   "metadata": {
    "collapsed": true
   },
   "outputs": [],
   "source": [
    "teams = pd.read_csv('teams.csv')\n",
    "teams_since_2000 = teams.loc[teams.yearID >= 2000]\n",
    "batters = pd.read_csv('batting.csv')\n",
    "batters_last_20_years = batters.loc[batters.yearID >= 1997]\n",
    "master = pd.read_csv('master.csv')"
   ]
  },
  {
   "cell_type": "markdown",
   "metadata": {},
   "source": [
    "#### Creating Functions for the analysis"
   ]
  },
  {
   "cell_type": "code",
   "execution_count": 3,
   "metadata": {
    "collapsed": true
   },
   "outputs": [],
   "source": [
    "# Function used to add Average, and Win % to the end of the dataset based on data in that file. This function is created\n",
    "# in case further analysis down the road needs to utilize these columns. The second function does the same, but is made\n",
    "# to simply the input for sheets that dont need win %\n",
    "\n",
    "def add_column(dataset):\n",
    "    dataset.insert(len(dataset.columns), 'AVG',(dataset['H'] / dataset['AB']))\n",
    "    dataset.insert(len(dataset.columns), 'W%',(dataset['W'] / (dataset['W'] + dataset['L'])))\n",
    "    dataset.insert(len(dataset.columns), 'OBP',((dataset['H'] + dataset['BB'] + dataset['HBP']) / (dataset['AB'] + dataset['BB'] + dataset['HBP'] + dataset['SF'])))\n",
    "    \n",
    "\n",
    "def add_column_avg_obp(dataset): # Creates a function to only add AVG and OBP\n",
    "    dataset.insert(len(dataset.columns), 'AVG',(dataset['H'] / dataset['AB']))\n",
    "    dataset.insert(len(dataset.columns), 'OBP',((dataset['H'] + dataset['BB'] + dataset['HBP']) / (dataset['AB'] + dataset['BB'] + dataset['HBP'] + dataset['SF'])))\n",
    "    "
   ]
  },
  {
   "cell_type": "markdown",
   "metadata": {},
   "source": [
    "***"
   ]
  },
  {
   "cell_type": "markdown",
   "metadata": {},
   "source": [
    "# Question 1: In the history of baseball, who are the top 10 players of the past 20 years in Batting Average and On Base Percentage? (Minimum 200 At Bats)\n",
    "\n",
    "## Wrangling Data"
   ]
  },
  {
   "cell_type": "markdown",
   "metadata": {},
   "source": [
    "#### There is no Average Column in our data, so we must manually add this into our dataset."
   ]
  },
  {
   "cell_type": "code",
   "execution_count": 4,
   "metadata": {
    "collapsed": true,
    "scrolled": false
   },
   "outputs": [],
   "source": [
    "# Insert Average, and OBP for our dataset\n",
    "add_column_avg_obp(batters_last_20_years)"
   ]
  },
  {
   "cell_type": "markdown",
   "metadata": {},
   "source": [
    "#### We need to confirm we have no missing data in our dataset."
   ]
  },
  {
   "cell_type": "code",
   "execution_count": 5,
   "metadata": {
    "scrolled": true
   },
   "outputs": [
    {
     "data": {
      "text/plain": [
       "True"
      ]
     },
     "execution_count": 5,
     "metadata": {},
     "output_type": "execute_result"
    }
   ],
   "source": [
    "#Ensure no missing data in dataset for Question #3\n",
    "batters_last_20_years.isnull().values.any()"
   ]
  },
  {
   "cell_type": "markdown",
   "metadata": {},
   "source": [
    "#### Next we need to see what is missing."
   ]
  },
  {
   "cell_type": "code",
   "execution_count": 6,
   "metadata": {
    "scrolled": true
   },
   "outputs": [
    {
     "data": {
      "text/html": [
       "<div>\n",
       "<style>\n",
       "    .dataframe thead tr:only-child th {\n",
       "        text-align: right;\n",
       "    }\n",
       "\n",
       "    .dataframe thead th {\n",
       "        text-align: left;\n",
       "    }\n",
       "\n",
       "    .dataframe tbody tr th {\n",
       "        vertical-align: top;\n",
       "    }\n",
       "</style>\n",
       "<table border=\"1\" class=\"dataframe\">\n",
       "  <thead>\n",
       "    <tr style=\"text-align: right;\">\n",
       "      <th></th>\n",
       "      <th>AVG</th>\n",
       "      <th>OBP</th>\n",
       "    </tr>\n",
       "  </thead>\n",
       "  <tbody>\n",
       "    <tr>\n",
       "      <th>75393</th>\n",
       "      <td>0.263158</td>\n",
       "      <td>0.263158</td>\n",
       "    </tr>\n",
       "    <tr>\n",
       "      <th>75394</th>\n",
       "      <td>0.273810</td>\n",
       "      <td>0.314607</td>\n",
       "    </tr>\n",
       "    <tr>\n",
       "      <th>75395</th>\n",
       "      <td>0.250000</td>\n",
       "      <td>0.328571</td>\n",
       "    </tr>\n",
       "    <tr>\n",
       "      <th>75396</th>\n",
       "      <td>0.000000</td>\n",
       "      <td>0.000000</td>\n",
       "    </tr>\n",
       "    <tr>\n",
       "      <th>75397</th>\n",
       "      <td>NaN</td>\n",
       "      <td>NaN</td>\n",
       "    </tr>\n",
       "  </tbody>\n",
       "</table>\n",
       "</div>"
      ],
      "text/plain": [
       "            AVG       OBP\n",
       "75393  0.263158  0.263158\n",
       "75394  0.273810  0.314607\n",
       "75395  0.250000  0.328571\n",
       "75396  0.000000  0.000000\n",
       "75397       NaN       NaN"
      ]
     },
     "execution_count": 6,
     "metadata": {},
     "output_type": "execute_result"
    }
   ],
   "source": [
    "#Evaluate the columns to see what is coming up null, to see if it will affect our analysis\n",
    "batters_last_20_years.loc[:, batters_last_20_years.isnull().any()].head()"
   ]
  },
  {
   "cell_type": "markdown",
   "metadata": {},
   "source": [
    "#### It appears we have values for average that are showing up as NaN. This means we have batters in our file that did not have an At Bat classified in the league. We can proceed in deleting these entries, as we only want to consider batters who have at least 200 at bats. \n",
    "\n",
    "#### Remove all batters that do not meet the criteria of at least 200 At bats"
   ]
  },
  {
   "cell_type": "code",
   "execution_count": 7,
   "metadata": {
    "collapsed": true,
    "scrolled": true
   },
   "outputs": [],
   "source": [
    "#Remove all batters that do not meet the criteria of at least 200 At Bats\n",
    "batters_200_plus_ab = batters_last_20_years.drop(batters_last_20_years[batters_last_20_years.AB < 200].index)"
   ]
  },
  {
   "cell_type": "markdown",
   "metadata": {},
   "source": [
    "#### Re-Test to see if there is any missing data in the cleaned up version of our dataset"
   ]
  },
  {
   "cell_type": "code",
   "execution_count": 8,
   "metadata": {
    "scrolled": true
   },
   "outputs": [
    {
     "data": {
      "text/html": [
       "<div>\n",
       "<style>\n",
       "    .dataframe thead tr:only-child th {\n",
       "        text-align: right;\n",
       "    }\n",
       "\n",
       "    .dataframe thead th {\n",
       "        text-align: left;\n",
       "    }\n",
       "\n",
       "    .dataframe tbody tr th {\n",
       "        vertical-align: top;\n",
       "    }\n",
       "</style>\n",
       "<table border=\"1\" class=\"dataframe\">\n",
       "  <thead>\n",
       "    <tr style=\"text-align: right;\">\n",
       "      <th></th>\n",
       "      <th>AVG</th>\n",
       "      <th>OBP</th>\n",
       "    </tr>\n",
       "  </thead>\n",
       "  <tbody>\n",
       "    <tr>\n",
       "      <th>75394</th>\n",
       "      <td>0.273810</td>\n",
       "      <td>0.314607</td>\n",
       "    </tr>\n",
       "    <tr>\n",
       "      <th>75407</th>\n",
       "      <td>0.314672</td>\n",
       "      <td>0.390863</td>\n",
       "    </tr>\n",
       "    <tr>\n",
       "      <th>75408</th>\n",
       "      <td>0.252577</td>\n",
       "      <td>0.374732</td>\n",
       "    </tr>\n",
       "    <tr>\n",
       "      <th>75409</th>\n",
       "      <td>0.254743</td>\n",
       "      <td>0.340376</td>\n",
       "    </tr>\n",
       "    <tr>\n",
       "      <th>75411</th>\n",
       "      <td>0.332524</td>\n",
       "      <td>0.389610</td>\n",
       "    </tr>\n",
       "  </tbody>\n",
       "</table>\n",
       "</div>"
      ],
      "text/plain": [
       "            AVG       OBP\n",
       "75394  0.273810  0.314607\n",
       "75407  0.314672  0.390863\n",
       "75408  0.252577  0.374732\n",
       "75409  0.254743  0.340376\n",
       "75411  0.332524  0.389610"
      ]
     },
     "execution_count": 8,
     "metadata": {},
     "output_type": "execute_result"
    }
   ],
   "source": [
    "#Evaluate the columns to see what is coming up null, to see if it will affect our analysis\n",
    "batters_200_plus_ab.loc[:, batters_last_20_years.isnull().any()].head()"
   ]
  },
  {
   "cell_type": "markdown",
   "metadata": {},
   "source": [
    "#### Finally, let's confirm we do in fact have all the columns needed to answer our question."
   ]
  },
  {
   "cell_type": "code",
   "execution_count": 9,
   "metadata": {
    "scrolled": false
   },
   "outputs": [
    {
     "data": {
      "text/html": [
       "<div>\n",
       "<style>\n",
       "    .dataframe thead tr:only-child th {\n",
       "        text-align: right;\n",
       "    }\n",
       "\n",
       "    .dataframe thead th {\n",
       "        text-align: left;\n",
       "    }\n",
       "\n",
       "    .dataframe tbody tr th {\n",
       "        vertical-align: top;\n",
       "    }\n",
       "</style>\n",
       "<table border=\"1\" class=\"dataframe\">\n",
       "  <thead>\n",
       "    <tr style=\"text-align: right;\">\n",
       "      <th></th>\n",
       "      <th>playerID</th>\n",
       "      <th>OBP</th>\n",
       "      <th>AVG</th>\n",
       "    </tr>\n",
       "  </thead>\n",
       "  <tbody>\n",
       "    <tr>\n",
       "      <th>75394</th>\n",
       "      <td>abbotku01</td>\n",
       "      <td>0.314607</td>\n",
       "      <td>0.273810</td>\n",
       "    </tr>\n",
       "    <tr>\n",
       "      <th>75407</th>\n",
       "      <td>alfoned01</td>\n",
       "      <td>0.390863</td>\n",
       "      <td>0.314672</td>\n",
       "    </tr>\n",
       "    <tr>\n",
       "      <th>75408</th>\n",
       "      <td>alicelu01</td>\n",
       "      <td>0.374732</td>\n",
       "      <td>0.252577</td>\n",
       "    </tr>\n",
       "    <tr>\n",
       "      <th>75409</th>\n",
       "      <td>allenje01</td>\n",
       "      <td>0.340376</td>\n",
       "      <td>0.254743</td>\n",
       "    </tr>\n",
       "    <tr>\n",
       "      <th>75411</th>\n",
       "      <td>alomaro01</td>\n",
       "      <td>0.389610</td>\n",
       "      <td>0.332524</td>\n",
       "    </tr>\n",
       "  </tbody>\n",
       "</table>\n",
       "</div>"
      ],
      "text/plain": [
       "        playerID       OBP       AVG\n",
       "75394  abbotku01  0.314607  0.273810\n",
       "75407  alfoned01  0.390863  0.314672\n",
       "75408  alicelu01  0.374732  0.252577\n",
       "75409  allenje01  0.340376  0.254743\n",
       "75411  alomaro01  0.389610  0.332524"
      ]
     },
     "execution_count": 9,
     "metadata": {},
     "output_type": "execute_result"
    }
   ],
   "source": [
    "# Confirm our columns are in place to answer our question\n",
    "batters_200_plus_ab.loc[:, [('playerID'), ('OBP'), ('AVG'),]].head()"
   ]
  },
  {
   "cell_type": "markdown",
   "metadata": {},
   "source": [
    "***\n",
    "\n",
    "## Exploration"
   ]
  },
  {
   "cell_type": "markdown",
   "metadata": {},
   "source": [
    "#### This is a 2 part exploration. First, we will look at the top 10 players of all time in Batting Average. "
   ]
  },
  {
   "cell_type": "code",
   "execution_count": 10,
   "metadata": {
    "scrolled": true
   },
   "outputs": [
    {
     "data": {
      "text/html": [
       "<div>\n",
       "<style>\n",
       "    .dataframe thead tr:only-child th {\n",
       "        text-align: right;\n",
       "    }\n",
       "\n",
       "    .dataframe thead th {\n",
       "        text-align: left;\n",
       "    }\n",
       "\n",
       "    .dataframe tbody tr th {\n",
       "        vertical-align: top;\n",
       "    }\n",
       "</style>\n",
       "<table border=\"1\" class=\"dataframe\">\n",
       "  <thead>\n",
       "    <tr style=\"text-align: right;\">\n",
       "      <th></th>\n",
       "      <th>yearID</th>\n",
       "      <th>AVG</th>\n",
       "    </tr>\n",
       "    <tr>\n",
       "      <th>playerID</th>\n",
       "      <th></th>\n",
       "      <th></th>\n",
       "    </tr>\n",
       "  </thead>\n",
       "  <tbody>\n",
       "    <tr>\n",
       "      <th>walkela01</th>\n",
       "      <td>1999</td>\n",
       "      <td>0.378995</td>\n",
       "    </tr>\n",
       "    <tr>\n",
       "      <th>heltoto01</th>\n",
       "      <td>2000</td>\n",
       "      <td>0.372414</td>\n",
       "    </tr>\n",
       "    <tr>\n",
       "      <th>garcino01</th>\n",
       "      <td>2000</td>\n",
       "      <td>0.372401</td>\n",
       "    </tr>\n",
       "    <tr>\n",
       "      <th>suzukic01</th>\n",
       "      <td>2004</td>\n",
       "      <td>0.372159</td>\n",
       "    </tr>\n",
       "    <tr>\n",
       "      <th>gwynnto01</th>\n",
       "      <td>1997</td>\n",
       "      <td>0.371622</td>\n",
       "    </tr>\n",
       "    <tr>\n",
       "      <th>bondsba01</th>\n",
       "      <td>2002</td>\n",
       "      <td>0.369727</td>\n",
       "    </tr>\n",
       "    <tr>\n",
       "      <th>walkela01</th>\n",
       "      <td>1997</td>\n",
       "      <td>0.366197</td>\n",
       "    </tr>\n",
       "    <tr>\n",
       "      <th>mauerjo01</th>\n",
       "      <td>2009</td>\n",
       "      <td>0.365201</td>\n",
       "    </tr>\n",
       "    <tr>\n",
       "      <th>jonesch06</th>\n",
       "      <td>2008</td>\n",
       "      <td>0.364465</td>\n",
       "    </tr>\n",
       "    <tr>\n",
       "      <th>walkela01</th>\n",
       "      <td>1998</td>\n",
       "      <td>0.363436</td>\n",
       "    </tr>\n",
       "  </tbody>\n",
       "</table>\n",
       "</div>"
      ],
      "text/plain": [
       "           yearID       AVG\n",
       "playerID                   \n",
       "walkela01    1999  0.378995\n",
       "heltoto01    2000  0.372414\n",
       "garcino01    2000  0.372401\n",
       "suzukic01    2004  0.372159\n",
       "gwynnto01    1997  0.371622\n",
       "bondsba01    2002  0.369727\n",
       "walkela01    1997  0.366197\n",
       "mauerjo01    2009  0.365201\n",
       "jonesch06    2008  0.364465\n",
       "walkela01    1998  0.363436"
      ]
     },
     "execution_count": 10,
     "metadata": {},
     "output_type": "execute_result"
    }
   ],
   "source": [
    "# Assign a variable to sort the batters_200_plus_ab dataset by Average Vertically, and descending. Prints top 10 rows.\n",
    "top_ten_avg = batters_200_plus_ab.sort_values('AVG', axis = 0, ascending = False).head(10) \n",
    "\n",
    "# Set the index to playerID, to allow us to order and place data based on that entry. We need this to locate player names.\n",
    "top_ten_avg.set_index('playerID', inplace=True)\n",
    "\n",
    "# Display the dataset with the information we need to eliminate unnecessary information.\n",
    "top_ten_avg.loc[:,[('yearID'),('AVG')]]\n"
   ]
  },
  {
   "cell_type": "markdown",
   "metadata": {},
   "source": [
    "#### Next, we will look at the top 10 players all time in On Base Percentage."
   ]
  },
  {
   "cell_type": "code",
   "execution_count": 11,
   "metadata": {
    "scrolled": true
   },
   "outputs": [
    {
     "data": {
      "text/html": [
       "<div>\n",
       "<style>\n",
       "    .dataframe thead tr:only-child th {\n",
       "        text-align: right;\n",
       "    }\n",
       "\n",
       "    .dataframe thead th {\n",
       "        text-align: left;\n",
       "    }\n",
       "\n",
       "    .dataframe tbody tr th {\n",
       "        vertical-align: top;\n",
       "    }\n",
       "</style>\n",
       "<table border=\"1\" class=\"dataframe\">\n",
       "  <thead>\n",
       "    <tr style=\"text-align: right;\">\n",
       "      <th></th>\n",
       "      <th>yearID</th>\n",
       "      <th>OBP</th>\n",
       "    </tr>\n",
       "    <tr>\n",
       "      <th>playerID</th>\n",
       "      <th></th>\n",
       "      <th></th>\n",
       "    </tr>\n",
       "  </thead>\n",
       "  <tbody>\n",
       "    <tr>\n",
       "      <th>bondsba01</th>\n",
       "      <td>2004</td>\n",
       "      <td>0.609400</td>\n",
       "    </tr>\n",
       "    <tr>\n",
       "      <th>bondsba01</th>\n",
       "      <td>2002</td>\n",
       "      <td>0.581699</td>\n",
       "    </tr>\n",
       "    <tr>\n",
       "      <th>bondsba01</th>\n",
       "      <td>2003</td>\n",
       "      <td>0.529091</td>\n",
       "    </tr>\n",
       "    <tr>\n",
       "      <th>bondsba01</th>\n",
       "      <td>2001</td>\n",
       "      <td>0.515060</td>\n",
       "    </tr>\n",
       "    <tr>\n",
       "      <th>mcgwima01</th>\n",
       "      <td>2000</td>\n",
       "      <td>0.482866</td>\n",
       "    </tr>\n",
       "    <tr>\n",
       "      <th>bondsba01</th>\n",
       "      <td>2007</td>\n",
       "      <td>0.480084</td>\n",
       "    </tr>\n",
       "    <tr>\n",
       "      <th>giambja01</th>\n",
       "      <td>2001</td>\n",
       "      <td>0.476900</td>\n",
       "    </tr>\n",
       "    <tr>\n",
       "      <th>giambja01</th>\n",
       "      <td>2000</td>\n",
       "      <td>0.475904</td>\n",
       "    </tr>\n",
       "    <tr>\n",
       "      <th>vottojo01</th>\n",
       "      <td>2012</td>\n",
       "      <td>0.473684</td>\n",
       "    </tr>\n",
       "    <tr>\n",
       "      <th>jonesch06</th>\n",
       "      <td>2008</td>\n",
       "      <td>0.470037</td>\n",
       "    </tr>\n",
       "  </tbody>\n",
       "</table>\n",
       "</div>"
      ],
      "text/plain": [
       "           yearID       OBP\n",
       "playerID                   \n",
       "bondsba01    2004  0.609400\n",
       "bondsba01    2002  0.581699\n",
       "bondsba01    2003  0.529091\n",
       "bondsba01    2001  0.515060\n",
       "mcgwima01    2000  0.482866\n",
       "bondsba01    2007  0.480084\n",
       "giambja01    2001  0.476900\n",
       "giambja01    2000  0.475904\n",
       "vottojo01    2012  0.473684\n",
       "jonesch06    2008  0.470037"
      ]
     },
     "execution_count": 11,
     "metadata": {},
     "output_type": "execute_result"
    }
   ],
   "source": [
    "# Assign a variable to sort the batters_200_plus_ab dataset by Average Vertically, and descending. Prints top 10 rows.\n",
    "top_ten_obp = batters_200_plus_ab.sort_values('OBP', axis = 0, ascending = False).head(10)\n",
    "\n",
    "# Set the index to playerID, to allow us to order and place data based on that entry. We need this to locate player names.\n",
    "top_ten_obp.set_index('playerID', inplace=True)\n",
    "\n",
    "# Display the dataset with the information we need to eliminate unnecessary information.\n",
    "top_ten_obp.loc[:,[('yearID'),('OBP')]]"
   ]
  },
  {
   "cell_type": "markdown",
   "metadata": {
    "collapsed": true
   },
   "source": [
    "#### We technically have our values. However, the purpose of this question wasn't to determine what the top 10 batting averages, and top 10 on base percentages were. We want to know the players that did it. To do this, we need to use the master dataset to properly bring the two datasets together. We will start by creating a column for a players full name."
   ]
  },
  {
   "cell_type": "code",
   "execution_count": 12,
   "metadata": {
    "collapsed": true
   },
   "outputs": [],
   "source": [
    "# First, let's create a Name column.\n",
    "master['name'] = master['nameFirst'] + ' ' + master['nameLast']"
   ]
  },
  {
   "cell_type": "markdown",
   "metadata": {},
   "source": [
    "#### Next, we need to make sure we're indexing by playerID as well on master dataset. The reasoning behind this is to ensure that both datasets are indexed on the value that we need to effectively translate, or replace if you will, with the newly created name column. "
   ]
  },
  {
   "cell_type": "code",
   "execution_count": 13,
   "metadata": {
    "collapsed": true
   },
   "outputs": [],
   "source": [
    "# Index the column player_ID to use that to mix organize the data.\n",
    "\n",
    "master.set_index('playerID', inplace=True)"
   ]
  },
  {
   "cell_type": "markdown",
   "metadata": {},
   "source": [
    "#### We will now create the new variable that includes a combination of both the top_ten_avg dataset, and the master dataset. The master dataset is specifically noted to combine based off the index of our top_ten_avg dataset. Since both of them index off playerID, this will ensure each party gets placed in the appropriate location in the concatenated dataset."
   ]
  },
  {
   "cell_type": "code",
   "execution_count": 14,
   "metadata": {
    "collapsed": true
   },
   "outputs": [],
   "source": [
    "# This creates a new variable, concatenating the top_ten_avg dataset, and the master dataset, indexed on playerID.\n",
    "top_ten_avg_byName = pd.concat([top_ten_avg, master.loc[top_ten_avg.index]], axis = 1)"
   ]
  },
  {
   "cell_type": "markdown",
   "metadata": {},
   "source": [
    "#### Finally, we can print our newly created dataset, that lists specifically the values that matter for our analysis. We now have the top 10 players in MLB history by Average."
   ]
  },
  {
   "cell_type": "code",
   "execution_count": 15,
   "metadata": {
    "scrolled": true
   },
   "outputs": [
    {
     "data": {
      "text/html": [
       "<div>\n",
       "<style>\n",
       "    .dataframe thead tr:only-child th {\n",
       "        text-align: right;\n",
       "    }\n",
       "\n",
       "    .dataframe thead th {\n",
       "        text-align: left;\n",
       "    }\n",
       "\n",
       "    .dataframe tbody tr th {\n",
       "        vertical-align: top;\n",
       "    }\n",
       "</style>\n",
       "<table border=\"1\" class=\"dataframe\">\n",
       "  <thead>\n",
       "    <tr style=\"text-align: right;\">\n",
       "      <th></th>\n",
       "      <th>name</th>\n",
       "      <th>yearID</th>\n",
       "      <th>AVG</th>\n",
       "    </tr>\n",
       "    <tr>\n",
       "      <th>playerID</th>\n",
       "      <th></th>\n",
       "      <th></th>\n",
       "      <th></th>\n",
       "    </tr>\n",
       "  </thead>\n",
       "  <tbody>\n",
       "    <tr>\n",
       "      <th>walkela01</th>\n",
       "      <td>Larry Walker</td>\n",
       "      <td>1999</td>\n",
       "      <td>0.378995</td>\n",
       "    </tr>\n",
       "    <tr>\n",
       "      <th>heltoto01</th>\n",
       "      <td>Todd Helton</td>\n",
       "      <td>2000</td>\n",
       "      <td>0.372414</td>\n",
       "    </tr>\n",
       "    <tr>\n",
       "      <th>garcino01</th>\n",
       "      <td>Nomar Garciaparra</td>\n",
       "      <td>2000</td>\n",
       "      <td>0.372401</td>\n",
       "    </tr>\n",
       "    <tr>\n",
       "      <th>suzukic01</th>\n",
       "      <td>Ichiro Suzuki</td>\n",
       "      <td>2004</td>\n",
       "      <td>0.372159</td>\n",
       "    </tr>\n",
       "    <tr>\n",
       "      <th>gwynnto01</th>\n",
       "      <td>Tony Gwynn</td>\n",
       "      <td>1997</td>\n",
       "      <td>0.371622</td>\n",
       "    </tr>\n",
       "    <tr>\n",
       "      <th>bondsba01</th>\n",
       "      <td>Barry Bonds</td>\n",
       "      <td>2002</td>\n",
       "      <td>0.369727</td>\n",
       "    </tr>\n",
       "    <tr>\n",
       "      <th>walkela01</th>\n",
       "      <td>Larry Walker</td>\n",
       "      <td>1997</td>\n",
       "      <td>0.366197</td>\n",
       "    </tr>\n",
       "    <tr>\n",
       "      <th>mauerjo01</th>\n",
       "      <td>Joe Mauer</td>\n",
       "      <td>2009</td>\n",
       "      <td>0.365201</td>\n",
       "    </tr>\n",
       "    <tr>\n",
       "      <th>jonesch06</th>\n",
       "      <td>Chipper Jones</td>\n",
       "      <td>2008</td>\n",
       "      <td>0.364465</td>\n",
       "    </tr>\n",
       "    <tr>\n",
       "      <th>walkela01</th>\n",
       "      <td>Larry Walker</td>\n",
       "      <td>1998</td>\n",
       "      <td>0.363436</td>\n",
       "    </tr>\n",
       "  </tbody>\n",
       "</table>\n",
       "</div>"
      ],
      "text/plain": [
       "                        name  yearID       AVG\n",
       "playerID                                      \n",
       "walkela01       Larry Walker    1999  0.378995\n",
       "heltoto01        Todd Helton    2000  0.372414\n",
       "garcino01  Nomar Garciaparra    2000  0.372401\n",
       "suzukic01      Ichiro Suzuki    2004  0.372159\n",
       "gwynnto01         Tony Gwynn    1997  0.371622\n",
       "bondsba01        Barry Bonds    2002  0.369727\n",
       "walkela01       Larry Walker    1997  0.366197\n",
       "mauerjo01          Joe Mauer    2009  0.365201\n",
       "jonesch06      Chipper Jones    2008  0.364465\n",
       "walkela01       Larry Walker    1998  0.363436"
      ]
     },
     "execution_count": 15,
     "metadata": {},
     "output_type": "execute_result"
    }
   ],
   "source": [
    "# Display the dataset with the information we need to eliminate unnecessary information.\n",
    "top_ten_avg_byName.loc[:,[('name'),('yearID'),('AVG')]]"
   ]
  },
  {
   "cell_type": "markdown",
   "metadata": {},
   "source": [
    "#### Now for the On Base Percentage. Fortunately, most of the legwork is done. We will just need to concatenate a new dataset, with the primary focus being on base percentage. So we will utilize the dataset top_ten_obp to accomplish this."
   ]
  },
  {
   "cell_type": "code",
   "execution_count": 16,
   "metadata": {
    "collapsed": true
   },
   "outputs": [],
   "source": [
    "# This creates a new variable, concatenating the top_ten_obp dataset, and the master dataset, indexed on playerID.\n",
    "top_ten_obp_byName = pd.concat([top_ten_obp, master.loc[top_ten_obp.index]], axis = 1)"
   ]
  },
  {
   "cell_type": "markdown",
   "metadata": {},
   "source": [
    "#### Once created, we can print our newly created dataset that specifically lists the values that matter for our analysis. We now have the top 10 players in MLB history by OBP."
   ]
  },
  {
   "cell_type": "code",
   "execution_count": 17,
   "metadata": {
    "scrolled": true
   },
   "outputs": [
    {
     "data": {
      "text/html": [
       "<div>\n",
       "<style>\n",
       "    .dataframe thead tr:only-child th {\n",
       "        text-align: right;\n",
       "    }\n",
       "\n",
       "    .dataframe thead th {\n",
       "        text-align: left;\n",
       "    }\n",
       "\n",
       "    .dataframe tbody tr th {\n",
       "        vertical-align: top;\n",
       "    }\n",
       "</style>\n",
       "<table border=\"1\" class=\"dataframe\">\n",
       "  <thead>\n",
       "    <tr style=\"text-align: right;\">\n",
       "      <th></th>\n",
       "      <th>name</th>\n",
       "      <th>yearID</th>\n",
       "      <th>OBP</th>\n",
       "    </tr>\n",
       "    <tr>\n",
       "      <th>playerID</th>\n",
       "      <th></th>\n",
       "      <th></th>\n",
       "      <th></th>\n",
       "    </tr>\n",
       "  </thead>\n",
       "  <tbody>\n",
       "    <tr>\n",
       "      <th>bondsba01</th>\n",
       "      <td>Barry Bonds</td>\n",
       "      <td>2004</td>\n",
       "      <td>0.609400</td>\n",
       "    </tr>\n",
       "    <tr>\n",
       "      <th>bondsba01</th>\n",
       "      <td>Barry Bonds</td>\n",
       "      <td>2002</td>\n",
       "      <td>0.581699</td>\n",
       "    </tr>\n",
       "    <tr>\n",
       "      <th>bondsba01</th>\n",
       "      <td>Barry Bonds</td>\n",
       "      <td>2003</td>\n",
       "      <td>0.529091</td>\n",
       "    </tr>\n",
       "    <tr>\n",
       "      <th>bondsba01</th>\n",
       "      <td>Barry Bonds</td>\n",
       "      <td>2001</td>\n",
       "      <td>0.515060</td>\n",
       "    </tr>\n",
       "    <tr>\n",
       "      <th>mcgwima01</th>\n",
       "      <td>Mark McGwire</td>\n",
       "      <td>2000</td>\n",
       "      <td>0.482866</td>\n",
       "    </tr>\n",
       "    <tr>\n",
       "      <th>bondsba01</th>\n",
       "      <td>Barry Bonds</td>\n",
       "      <td>2007</td>\n",
       "      <td>0.480084</td>\n",
       "    </tr>\n",
       "    <tr>\n",
       "      <th>giambja01</th>\n",
       "      <td>Jason Giambi</td>\n",
       "      <td>2001</td>\n",
       "      <td>0.476900</td>\n",
       "    </tr>\n",
       "    <tr>\n",
       "      <th>giambja01</th>\n",
       "      <td>Jason Giambi</td>\n",
       "      <td>2000</td>\n",
       "      <td>0.475904</td>\n",
       "    </tr>\n",
       "    <tr>\n",
       "      <th>vottojo01</th>\n",
       "      <td>Joey Votto</td>\n",
       "      <td>2012</td>\n",
       "      <td>0.473684</td>\n",
       "    </tr>\n",
       "    <tr>\n",
       "      <th>jonesch06</th>\n",
       "      <td>Chipper Jones</td>\n",
       "      <td>2008</td>\n",
       "      <td>0.470037</td>\n",
       "    </tr>\n",
       "  </tbody>\n",
       "</table>\n",
       "</div>"
      ],
      "text/plain": [
       "                    name  yearID       OBP\n",
       "playerID                                  \n",
       "bondsba01    Barry Bonds    2004  0.609400\n",
       "bondsba01    Barry Bonds    2002  0.581699\n",
       "bondsba01    Barry Bonds    2003  0.529091\n",
       "bondsba01    Barry Bonds    2001  0.515060\n",
       "mcgwima01   Mark McGwire    2000  0.482866\n",
       "bondsba01    Barry Bonds    2007  0.480084\n",
       "giambja01   Jason Giambi    2001  0.476900\n",
       "giambja01   Jason Giambi    2000  0.475904\n",
       "vottojo01     Joey Votto    2012  0.473684\n",
       "jonesch06  Chipper Jones    2008  0.470037"
      ]
     },
     "execution_count": 17,
     "metadata": {},
     "output_type": "execute_result"
    }
   ],
   "source": [
    "# Display the dataset with the information we need to eliminate unnecessary information.\n",
    "top_ten_obp_byName.loc[:,[('name'),('yearID'),('OBP')]]"
   ]
  },
  {
   "cell_type": "markdown",
   "metadata": {},
   "source": [
    "## Question 1 Answer - In the history of baseball, who are the top 10 players of the past 20 years in Batting Average and On Base Percentage? (Minimum 200 At Bats)?\n",
    "\n",
    "#### For batters, we have a wide variety of players. Larry Walker is absolutely one of the best all time, appearing on this list 3 times, in various seasons. An intriguing note is that only Barry Bonds appears on both lists. In OBP, there is no question that Barry Bonds is king. In 2004, he reached base an astounding 60% of the time. \n",
    "\n",
    "***"
   ]
  },
  {
   "cell_type": "markdown",
   "metadata": {},
   "source": [
    "# Question 2: Since the year 2000, what metric directly relates to a team's winning percentage: Getting a hit (Avg) or Getting on base (OBP)?\n",
    "\n",
    "\n",
    "\n",
    "## Data Wrangling"
   ]
  },
  {
   "cell_type": "markdown",
   "metadata": {},
   "source": [
    "#### First, we need to make sure that there is no missing information. We need to do this to ensure we have accurate, consistent population data for this evaluation."
   ]
  },
  {
   "cell_type": "code",
   "execution_count": 18,
   "metadata": {},
   "outputs": [
    {
     "data": {
      "text/plain": [
       "False"
      ]
     },
     "execution_count": 18,
     "metadata": {},
     "output_type": "execute_result"
    }
   ],
   "source": [
    "#Ensure no missing data in dataset for Questions #1\n",
    "teams_since_2000.isnull().values.any()"
   ]
  },
  {
   "cell_type": "markdown",
   "metadata": {},
   "source": [
    "#### The result confirms there are no missing values in our dataset.\n",
    "\n",
    "***"
   ]
  },
  {
   "cell_type": "markdown",
   "metadata": {},
   "source": [
    "## Exploration"
   ]
  },
  {
   "cell_type": "markdown",
   "metadata": {},
   "source": [
    "#### The data we have doesn't have OBP Calculated. To answer our question, we need OBP, and Average, as well as winning percentage. We will call a function to add both average and win %, and OBP columns."
   ]
  },
  {
   "cell_type": "code",
   "execution_count": 19,
   "metadata": {
    "collapsed": true
   },
   "outputs": [],
   "source": [
    "#Calling the add_column function to add average and win % columns to dataframes for both Question 1\n",
    "add_column(teams_since_2000)\n"
   ]
  },
  {
   "cell_type": "markdown",
   "metadata": {},
   "source": [
    "#### Next, we want to confirm that our columns are in fact present for this analysis to ensure the operations were successful. "
   ]
  },
  {
   "cell_type": "code",
   "execution_count": 20,
   "metadata": {},
   "outputs": [
    {
     "data": {
      "text/html": [
       "<div>\n",
       "<style>\n",
       "    .dataframe thead tr:only-child th {\n",
       "        text-align: right;\n",
       "    }\n",
       "\n",
       "    .dataframe thead th {\n",
       "        text-align: left;\n",
       "    }\n",
       "\n",
       "    .dataframe tbody tr th {\n",
       "        vertical-align: top;\n",
       "    }\n",
       "</style>\n",
       "<table border=\"1\" class=\"dataframe\">\n",
       "  <thead>\n",
       "    <tr style=\"text-align: right;\">\n",
       "      <th></th>\n",
       "      <th>yearID</th>\n",
       "      <th>OBP</th>\n",
       "      <th>AVG</th>\n",
       "      <th>W%</th>\n",
       "    </tr>\n",
       "  </thead>\n",
       "  <tbody>\n",
       "    <tr>\n",
       "      <th>2325</th>\n",
       "      <td>2000</td>\n",
       "      <td>0.352355</td>\n",
       "      <td>0.279673</td>\n",
       "      <td>0.506173</td>\n",
       "    </tr>\n",
       "    <tr>\n",
       "      <th>2326</th>\n",
       "      <td>2000</td>\n",
       "      <td>0.333387</td>\n",
       "      <td>0.265243</td>\n",
       "      <td>0.524691</td>\n",
       "    </tr>\n",
       "    <tr>\n",
       "      <th>2327</th>\n",
       "      <td>2000</td>\n",
       "      <td>0.346477</td>\n",
       "      <td>0.271452</td>\n",
       "      <td>0.586420</td>\n",
       "    </tr>\n",
       "    <tr>\n",
       "      <th>2328</th>\n",
       "      <td>2000</td>\n",
       "      <td>0.340580</td>\n",
       "      <td>0.271761</td>\n",
       "      <td>0.456790</td>\n",
       "    </tr>\n",
       "    <tr>\n",
       "      <th>2329</th>\n",
       "      <td>2000</td>\n",
       "      <td>0.340547</td>\n",
       "      <td>0.266963</td>\n",
       "      <td>0.524691</td>\n",
       "    </tr>\n",
       "  </tbody>\n",
       "</table>\n",
       "</div>"
      ],
      "text/plain": [
       "      yearID       OBP       AVG        W%\n",
       "2325    2000  0.352355  0.279673  0.506173\n",
       "2326    2000  0.333387  0.265243  0.524691\n",
       "2327    2000  0.346477  0.271452  0.586420\n",
       "2328    2000  0.340580  0.271761  0.456790\n",
       "2329    2000  0.340547  0.266963  0.524691"
      ]
     },
     "execution_count": 20,
     "metadata": {},
     "output_type": "execute_result"
    }
   ],
   "source": [
    "#Display teams_since_2000 to confirm all columns needed for analysis are present\n",
    "teams_since_2000.loc[:, [('yearID'), ('OBP'), ('AVG'), ('W%')]].head()"
   ]
  },
  {
   "cell_type": "markdown",
   "metadata": {},
   "source": [
    "#### We want to find out what better relates to the team's winning percentage, Average or On Base Percentage. To determine this, we will investigate a correlation coefficient to allow us to evaluate how effective each metric relates to winning percentage. We will be using a linear regression table to compare and contrast."
   ]
  },
  {
   "cell_type": "code",
   "execution_count": 21,
   "metadata": {},
   "outputs": [
    {
     "name": "stdout",
     "output_type": "stream",
     "text": [
      "The Correlation of Average to Winning Percentage from 2000 to present is\n",
      "0.368634703734\n",
      "----------------------------------------------------------------------------\n",
      "The Correlation of On Base Percentage to Winning Percentage from 2000 to present is\n",
      "0.487284102017\n"
     ]
    },
    {
     "data": {
      "image/png": "[encoded data removed]",
      "text/plain": [
       "<matplotlib.figure.Figure at 0xc7a6470>"
      ]
     },
     "metadata": {},
     "output_type": "display_data"
    }
   ],
   "source": [
    "#Create a visual aid for the findings - Correlation between Average and Winning Percentage\n",
    "sns.pairplot(teams_since_2000, x_vars = ['AVG', 'OBP'], y_vars = 'W%', size = 9, aspect = .9, kind = 'reg')\n",
    "#Compare the Correlation Coefficient for Average vs. OBP correlated to wins\n",
    "print('The Correlation of Average to Winning Percentage from 2000 to present is')\n",
    "print(teams_since_2000['AVG'].corr(teams_since_2000['W%'])) # Clean Display\n",
    "\n",
    "print('----------------------------------------------------------------------------') # Clean Display\n",
    "\n",
    "print('The Correlation of On Base Percentage to Winning Percentage from 2000 to present is') # Clean Display\n",
    "print(teams_since_2000['OBP'].corr(teams_since_2000['W%'])) # Display the correlation of each value\n",
    " "
   ]
  },
  {
   "cell_type": "markdown",
   "metadata": {},
   "source": [
    "## Question 2 Answer - Since the year 2000, what metric directly relates to a team's ability to win a game: Getting a hit (Avg) or Getting on base (OBP)?\n",
    "\n",
    "#### After evaluating the correlation coefficient, we can state there is a moderate relationship between a Baseball Team's On-Base Percentage, and Winning Percentage in Major League Baseball since 2000. We can also state there is a weak to moderate relationship between a Baseball Team's Batting Average and Winning Percentage in Major League Baseball since 2000. \n",
    "\n",
    "#### While neither of these outcomes prove that one causes the other (Correlation does not mean causation), we can infer that On Base Percentage does affect winning percentage more than Batting Average does as a team. This warrants further investigation to determine what further metrics could be utilized for win prediction.\n",
    "\n",
    "***\n"
   ]
  },
  {
   "cell_type": "markdown",
   "metadata": {},
   "source": [
    "# Question 3: Since the beginning of baseball history, does a team's ability to hit homeruns translate into victories?      \n",
    "\n",
    "## Data Wrangling"
   ]
  },
  {
   "cell_type": "markdown",
   "metadata": {},
   "source": [
    "#### The only columns we truly need to answer Question 2 is Homeruns (H), and (Wins), and the related Years. While the other statistics have value in further analysis, they will have no bearing in this analysis. We will first need to ensure we have no missing values in these columns."
   ]
  },
  {
   "cell_type": "code",
   "execution_count": 22,
   "metadata": {},
   "outputs": [
    {
     "data": {
      "text/plain": [
       "True"
      ]
     },
     "execution_count": 22,
     "metadata": {},
     "output_type": "execute_result"
    }
   ],
   "source": [
    "#Ensure no missing data in dataset for Question #2\n",
    "teams.isnull().values.any()"
   ]
  },
  {
   "cell_type": "markdown",
   "metadata": {},
   "source": [
    "#### The output confirms we do in fact have missing information. Next, let's check to see where the missing values are."
   ]
  },
  {
   "cell_type": "code",
   "execution_count": 23,
   "metadata": {},
   "outputs": [
    {
     "data": {
      "text/html": [
       "<div>\n",
       "<style>\n",
       "    .dataframe thead tr:only-child th {\n",
       "        text-align: right;\n",
       "    }\n",
       "\n",
       "    .dataframe thead th {\n",
       "        text-align: left;\n",
       "    }\n",
       "\n",
       "    .dataframe tbody tr th {\n",
       "        vertical-align: top;\n",
       "    }\n",
       "</style>\n",
       "<table border=\"1\" class=\"dataframe\">\n",
       "  <thead>\n",
       "    <tr style=\"text-align: right;\">\n",
       "      <th></th>\n",
       "      <th>lgID</th>\n",
       "      <th>divID</th>\n",
       "      <th>Ghome</th>\n",
       "      <th>DivWin</th>\n",
       "      <th>WCWin</th>\n",
       "      <th>LgWin</th>\n",
       "      <th>WSWin</th>\n",
       "      <th>SO</th>\n",
       "      <th>SB</th>\n",
       "      <th>CS</th>\n",
       "      <th>HBP</th>\n",
       "      <th>SF</th>\n",
       "      <th>DP</th>\n",
       "      <th>park</th>\n",
       "      <th>attendance</th>\n",
       "    </tr>\n",
       "  </thead>\n",
       "  <tbody>\n",
       "    <tr>\n",
       "      <th>0</th>\n",
       "      <td>NaN</td>\n",
       "      <td>NaN</td>\n",
       "      <td>NaN</td>\n",
       "      <td>NaN</td>\n",
       "      <td>NaN</td>\n",
       "      <td>N</td>\n",
       "      <td>NaN</td>\n",
       "      <td>19.0</td>\n",
       "      <td>73.0</td>\n",
       "      <td>NaN</td>\n",
       "      <td>NaN</td>\n",
       "      <td>NaN</td>\n",
       "      <td>NaN</td>\n",
       "      <td>South End Grounds I</td>\n",
       "      <td>NaN</td>\n",
       "    </tr>\n",
       "    <tr>\n",
       "      <th>1</th>\n",
       "      <td>NaN</td>\n",
       "      <td>NaN</td>\n",
       "      <td>NaN</td>\n",
       "      <td>NaN</td>\n",
       "      <td>NaN</td>\n",
       "      <td>N</td>\n",
       "      <td>NaN</td>\n",
       "      <td>22.0</td>\n",
       "      <td>69.0</td>\n",
       "      <td>NaN</td>\n",
       "      <td>NaN</td>\n",
       "      <td>NaN</td>\n",
       "      <td>NaN</td>\n",
       "      <td>Union Base-Ball Grounds</td>\n",
       "      <td>NaN</td>\n",
       "    </tr>\n",
       "    <tr>\n",
       "      <th>2</th>\n",
       "      <td>NaN</td>\n",
       "      <td>NaN</td>\n",
       "      <td>NaN</td>\n",
       "      <td>NaN</td>\n",
       "      <td>NaN</td>\n",
       "      <td>N</td>\n",
       "      <td>NaN</td>\n",
       "      <td>25.0</td>\n",
       "      <td>18.0</td>\n",
       "      <td>NaN</td>\n",
       "      <td>NaN</td>\n",
       "      <td>NaN</td>\n",
       "      <td>NaN</td>\n",
       "      <td>National Association Grounds</td>\n",
       "      <td>NaN</td>\n",
       "    </tr>\n",
       "    <tr>\n",
       "      <th>3</th>\n",
       "      <td>NaN</td>\n",
       "      <td>NaN</td>\n",
       "      <td>NaN</td>\n",
       "      <td>NaN</td>\n",
       "      <td>NaN</td>\n",
       "      <td>N</td>\n",
       "      <td>NaN</td>\n",
       "      <td>9.0</td>\n",
       "      <td>16.0</td>\n",
       "      <td>NaN</td>\n",
       "      <td>NaN</td>\n",
       "      <td>NaN</td>\n",
       "      <td>NaN</td>\n",
       "      <td>Hamilton Field</td>\n",
       "      <td>NaN</td>\n",
       "    </tr>\n",
       "    <tr>\n",
       "      <th>4</th>\n",
       "      <td>NaN</td>\n",
       "      <td>NaN</td>\n",
       "      <td>NaN</td>\n",
       "      <td>NaN</td>\n",
       "      <td>NaN</td>\n",
       "      <td>N</td>\n",
       "      <td>NaN</td>\n",
       "      <td>15.0</td>\n",
       "      <td>46.0</td>\n",
       "      <td>NaN</td>\n",
       "      <td>NaN</td>\n",
       "      <td>NaN</td>\n",
       "      <td>NaN</td>\n",
       "      <td>Union Grounds (Brooklyn)</td>\n",
       "      <td>NaN</td>\n",
       "    </tr>\n",
       "  </tbody>\n",
       "</table>\n",
       "</div>"
      ],
      "text/plain": [
       "  lgID divID  Ghome DivWin WCWin LgWin WSWin    SO    SB  CS  HBP  SF  DP  \\\n",
       "0  NaN   NaN    NaN    NaN   NaN     N   NaN  19.0  73.0 NaN  NaN NaN NaN   \n",
       "1  NaN   NaN    NaN    NaN   NaN     N   NaN  22.0  69.0 NaN  NaN NaN NaN   \n",
       "2  NaN   NaN    NaN    NaN   NaN     N   NaN  25.0  18.0 NaN  NaN NaN NaN   \n",
       "3  NaN   NaN    NaN    NaN   NaN     N   NaN   9.0  16.0 NaN  NaN NaN NaN   \n",
       "4  NaN   NaN    NaN    NaN   NaN     N   NaN  15.0  46.0 NaN  NaN NaN NaN   \n",
       "\n",
       "                           park  attendance  \n",
       "0           South End Grounds I         NaN  \n",
       "1       Union Base-Ball Grounds         NaN  \n",
       "2  National Association Grounds         NaN  \n",
       "3                Hamilton Field         NaN  \n",
       "4      Union Grounds (Brooklyn)         NaN  "
      ]
     },
     "execution_count": 23,
     "metadata": {},
     "output_type": "execute_result"
    }
   ],
   "source": [
    "#Evaluate the columns to see what is coming up null, to see if it will affect our analysis\n",
    "teams.loc[:, teams.isnull().any()].head()"
   ]
  },
  {
   "cell_type": "code",
   "execution_count": 24,
   "metadata": {},
   "outputs": [
    {
     "data": {
      "text/html": [
       "<div>\n",
       "<style>\n",
       "    .dataframe thead tr:only-child th {\n",
       "        text-align: right;\n",
       "    }\n",
       "\n",
       "    .dataframe thead th {\n",
       "        text-align: left;\n",
       "    }\n",
       "\n",
       "    .dataframe tbody tr th {\n",
       "        vertical-align: top;\n",
       "    }\n",
       "</style>\n",
       "<table border=\"1\" class=\"dataframe\">\n",
       "  <thead>\n",
       "    <tr style=\"text-align: right;\">\n",
       "      <th></th>\n",
       "      <th>lgID</th>\n",
       "      <th>divID</th>\n",
       "      <th>Ghome</th>\n",
       "      <th>DivWin</th>\n",
       "      <th>WCWin</th>\n",
       "      <th>LgWin</th>\n",
       "      <th>WSWin</th>\n",
       "      <th>SO</th>\n",
       "      <th>SB</th>\n",
       "      <th>CS</th>\n",
       "      <th>HBP</th>\n",
       "      <th>SF</th>\n",
       "      <th>DP</th>\n",
       "      <th>park</th>\n",
       "      <th>attendance</th>\n",
       "    </tr>\n",
       "  </thead>\n",
       "  <tbody>\n",
       "    <tr>\n",
       "      <th>2830</th>\n",
       "      <td>NL</td>\n",
       "      <td>C</td>\n",
       "      <td>81.0</td>\n",
       "      <td>N</td>\n",
       "      <td>N</td>\n",
       "      <td>N</td>\n",
       "      <td>N</td>\n",
       "      <td>1318.0</td>\n",
       "      <td>35.0</td>\n",
       "      <td>26.0</td>\n",
       "      <td>70.0</td>\n",
       "      <td>41.0</td>\n",
       "      <td>169.0</td>\n",
       "      <td>Busch Stadium III</td>\n",
       "      <td>3444490.0</td>\n",
       "    </tr>\n",
       "    <tr>\n",
       "      <th>2831</th>\n",
       "      <td>AL</td>\n",
       "      <td>E</td>\n",
       "      <td>81.0</td>\n",
       "      <td>N</td>\n",
       "      <td>N</td>\n",
       "      <td>N</td>\n",
       "      <td>N</td>\n",
       "      <td>1482.0</td>\n",
       "      <td>60.0</td>\n",
       "      <td>37.0</td>\n",
       "      <td>69.0</td>\n",
       "      <td>28.0</td>\n",
       "      <td>129.0</td>\n",
       "      <td>Tropicana Field</td>\n",
       "      <td>1286163.0</td>\n",
       "    </tr>\n",
       "    <tr>\n",
       "      <th>2832</th>\n",
       "      <td>AL</td>\n",
       "      <td>W</td>\n",
       "      <td>81.0</td>\n",
       "      <td>Y</td>\n",
       "      <td>N</td>\n",
       "      <td>N</td>\n",
       "      <td>N</td>\n",
       "      <td>1220.0</td>\n",
       "      <td>99.0</td>\n",
       "      <td>36.0</td>\n",
       "      <td>70.0</td>\n",
       "      <td>40.0</td>\n",
       "      <td>190.0</td>\n",
       "      <td>Rangers Ballpark in Arlington</td>\n",
       "      <td>2710402.0</td>\n",
       "    </tr>\n",
       "    <tr>\n",
       "      <th>2833</th>\n",
       "      <td>AL</td>\n",
       "      <td>E</td>\n",
       "      <td>81.0</td>\n",
       "      <td>N</td>\n",
       "      <td>Y</td>\n",
       "      <td>N</td>\n",
       "      <td>N</td>\n",
       "      <td>1362.0</td>\n",
       "      <td>54.0</td>\n",
       "      <td>24.0</td>\n",
       "      <td>55.0</td>\n",
       "      <td>40.0</td>\n",
       "      <td>144.0</td>\n",
       "      <td>Rogers Centre</td>\n",
       "      <td>3392099.0</td>\n",
       "    </tr>\n",
       "    <tr>\n",
       "      <th>2834</th>\n",
       "      <td>NL</td>\n",
       "      <td>E</td>\n",
       "      <td>81.0</td>\n",
       "      <td>Y</td>\n",
       "      <td>N</td>\n",
       "      <td>N</td>\n",
       "      <td>N</td>\n",
       "      <td>1252.0</td>\n",
       "      <td>121.0</td>\n",
       "      <td>39.0</td>\n",
       "      <td>64.0</td>\n",
       "      <td>63.0</td>\n",
       "      <td>142.0</td>\n",
       "      <td>Nationals Park</td>\n",
       "      <td>2481938.0</td>\n",
       "    </tr>\n",
       "  </tbody>\n",
       "</table>\n",
       "</div>"
      ],
      "text/plain": [
       "     lgID divID  Ghome DivWin WCWin LgWin WSWin      SO     SB    CS   HBP  \\\n",
       "2830   NL     C   81.0      N     N     N     N  1318.0   35.0  26.0  70.0   \n",
       "2831   AL     E   81.0      N     N     N     N  1482.0   60.0  37.0  69.0   \n",
       "2832   AL     W   81.0      Y     N     N     N  1220.0   99.0  36.0  70.0   \n",
       "2833   AL     E   81.0      N     Y     N     N  1362.0   54.0  24.0  55.0   \n",
       "2834   NL     E   81.0      Y     N     N     N  1252.0  121.0  39.0  64.0   \n",
       "\n",
       "        SF     DP                           park  attendance  \n",
       "2830  41.0  169.0              Busch Stadium III   3444490.0  \n",
       "2831  28.0  129.0                Tropicana Field   1286163.0  \n",
       "2832  40.0  190.0  Rangers Ballpark in Arlington   2710402.0  \n",
       "2833  40.0  144.0                  Rogers Centre   3392099.0  \n",
       "2834  63.0  142.0                 Nationals Park   2481938.0  "
      ]
     },
     "execution_count": 24,
     "metadata": {},
     "output_type": "execute_result"
    }
   ],
   "source": [
    "#Evaluate the last five columns to see what is coming up null, to see if it will affect our analysis\n",
    "teams.loc[:, teams.isnull().any()].tail()"
   ]
  },
  {
   "cell_type": "markdown",
   "metadata": {},
   "source": [
    "#### Since this spans over 100 years, it was important to check both the front and back of this data set, as different statistics were kept then, compared to now. This confirms that they are in fact the same columns missing information. \n",
    "\n",
    "#### Evaluating the data, it appears the null data refers to irrelevant statistics to our analysis. None of these are Total wins (W), or Homeruns (HR), or Year (yearID). None of these statistics are relevant to our data analysis, and we can move forward without needing a solution as to how to handle this information. \n",
    "\n",
    "#### We will simply remove all these categories missing information."
   ]
  },
  {
   "cell_type": "code",
   "execution_count": 25,
   "metadata": {},
   "outputs": [
    {
     "data": {
      "text/plain": [
       "False"
      ]
     },
     "execution_count": 25,
     "metadata": {},
     "output_type": "execute_result"
    }
   ],
   "source": [
    "#Remove any columns with NA or No data, and test again to ensure no missing data in dataset for Question #2\n",
    "teams = teams.dropna(axis = 1, how ='any')\n",
    "teams.isnull().values.any()"
   ]
  },
  {
   "cell_type": "markdown",
   "metadata": {},
   "source": [
    "#### After removing the categories, we confirm that there are no more null values. We want to display the first 5, and last 5 columns to confirm all years have been captured."
   ]
  },
  {
   "cell_type": "code",
   "execution_count": 26,
   "metadata": {},
   "outputs": [
    {
     "data": {
      "text/html": [
       "<div>\n",
       "<style>\n",
       "    .dataframe thead tr:only-child th {\n",
       "        text-align: right;\n",
       "    }\n",
       "\n",
       "    .dataframe thead th {\n",
       "        text-align: left;\n",
       "    }\n",
       "\n",
       "    .dataframe tbody tr th {\n",
       "        vertical-align: top;\n",
       "    }\n",
       "</style>\n",
       "<table border=\"1\" class=\"dataframe\">\n",
       "  <thead>\n",
       "    <tr style=\"text-align: right;\">\n",
       "      <th></th>\n",
       "      <th>yearID</th>\n",
       "      <th>W</th>\n",
       "      <th>HR</th>\n",
       "    </tr>\n",
       "  </thead>\n",
       "  <tbody>\n",
       "    <tr>\n",
       "      <th>0</th>\n",
       "      <td>1871</td>\n",
       "      <td>20</td>\n",
       "      <td>3</td>\n",
       "    </tr>\n",
       "    <tr>\n",
       "      <th>1</th>\n",
       "      <td>1871</td>\n",
       "      <td>19</td>\n",
       "      <td>10</td>\n",
       "    </tr>\n",
       "    <tr>\n",
       "      <th>2</th>\n",
       "      <td>1871</td>\n",
       "      <td>10</td>\n",
       "      <td>7</td>\n",
       "    </tr>\n",
       "    <tr>\n",
       "      <th>3</th>\n",
       "      <td>1871</td>\n",
       "      <td>7</td>\n",
       "      <td>2</td>\n",
       "    </tr>\n",
       "    <tr>\n",
       "      <th>4</th>\n",
       "      <td>1871</td>\n",
       "      <td>16</td>\n",
       "      <td>1</td>\n",
       "    </tr>\n",
       "  </tbody>\n",
       "</table>\n",
       "</div>"
      ],
      "text/plain": [
       "   yearID   W  HR\n",
       "0    1871  20   3\n",
       "1    1871  19  10\n",
       "2    1871  10   7\n",
       "3    1871   7   2\n",
       "4    1871  16   1"
      ]
     },
     "execution_count": 26,
     "metadata": {},
     "output_type": "execute_result"
    }
   ],
   "source": [
    "#Display teams to confirm all columns needed for analysis are present\n",
    "teams.loc[:,[('yearID'),('W'), ('HR')]].head()"
   ]
  },
  {
   "cell_type": "code",
   "execution_count": 27,
   "metadata": {},
   "outputs": [
    {
     "data": {
      "text/html": [
       "<div>\n",
       "<style>\n",
       "    .dataframe thead tr:only-child th {\n",
       "        text-align: right;\n",
       "    }\n",
       "\n",
       "    .dataframe thead th {\n",
       "        text-align: left;\n",
       "    }\n",
       "\n",
       "    .dataframe tbody tr th {\n",
       "        vertical-align: top;\n",
       "    }\n",
       "</style>\n",
       "<table border=\"1\" class=\"dataframe\">\n",
       "  <thead>\n",
       "    <tr style=\"text-align: right;\">\n",
       "      <th></th>\n",
       "      <th>yearID</th>\n",
       "      <th>W</th>\n",
       "      <th>HR</th>\n",
       "    </tr>\n",
       "  </thead>\n",
       "  <tbody>\n",
       "    <tr>\n",
       "      <th>2830</th>\n",
       "      <td>2016</td>\n",
       "      <td>86</td>\n",
       "      <td>225</td>\n",
       "    </tr>\n",
       "    <tr>\n",
       "      <th>2831</th>\n",
       "      <td>2016</td>\n",
       "      <td>68</td>\n",
       "      <td>216</td>\n",
       "    </tr>\n",
       "    <tr>\n",
       "      <th>2832</th>\n",
       "      <td>2016</td>\n",
       "      <td>95</td>\n",
       "      <td>215</td>\n",
       "    </tr>\n",
       "    <tr>\n",
       "      <th>2833</th>\n",
       "      <td>2016</td>\n",
       "      <td>89</td>\n",
       "      <td>221</td>\n",
       "    </tr>\n",
       "    <tr>\n",
       "      <th>2834</th>\n",
       "      <td>2016</td>\n",
       "      <td>95</td>\n",
       "      <td>203</td>\n",
       "    </tr>\n",
       "  </tbody>\n",
       "</table>\n",
       "</div>"
      ],
      "text/plain": [
       "      yearID   W   HR\n",
       "2830    2016  86  225\n",
       "2831    2016  68  216\n",
       "2832    2016  95  215\n",
       "2833    2016  89  221\n",
       "2834    2016  95  203"
      ]
     },
     "execution_count": 27,
     "metadata": {},
     "output_type": "execute_result"
    }
   ],
   "source": [
    "#Display teams to confirm all columns needed for analysis are present\n",
    "teams.loc[:,[('yearID'),('W'),('HR')]].tail()"
   ]
  },
  {
   "cell_type": "markdown",
   "metadata": {},
   "source": [
    "***\n",
    "\n",
    "## Exploration"
   ]
  },
  {
   "cell_type": "markdown",
   "metadata": {},
   "source": [
    "#### Now we will calculate the correlation between the Homeruns, Wins. Due to having a tremendous amount of data points, we will use a hexplot to help us visualize the affect."
   ]
  },
  {
   "cell_type": "code",
   "execution_count": 28,
   "metadata": {},
   "outputs": [
    {
     "data": {
      "text/plain": [
       "<seaborn.axisgrid.JointGrid at 0xf0a2c50>"
      ]
     },
     "execution_count": 28,
     "metadata": {},
     "output_type": "execute_result"
    },
    {
     "data": {
      "image/png": "[encoded data removed]",
      "text/plain": [
       "<matplotlib.figure.Figure at 0xf0a2b38>"
      ]
     },
     "metadata": {},
     "output_type": "display_data"
    }
   ],
   "source": [
    "#Create a Hexplot with distributions for both the HR and W columns.\n",
    "sns.jointplot('HR', 'W', data = teams, kind='hex', size = 14)"
   ]
  },
  {
   "cell_type": "markdown",
   "metadata": {},
   "source": [
    "#### A few things stand out here. For starters, there is a correlation coefficient of .48, suggesting a moderate postiive correlation between homeruns, and wins. What's more intriguing is how the distributions of both Homeruns and Wins vary. Neither are even close to a normal distribution. \n",
    "\n",
    "#### Homeruns for starters appears to be multimodal, Wins is skewed heavily to the right. There could be significant reasons as to why this may be the case. It appears that there is a significant difference in how many homeruns were hit in different eras. \n",
    "\n",
    "#### To investigate this, I would like to see box and whisker plots grouped by year for both Wins and Homeruns. I believe this will illustrate the problem with this model created above. I will also include the summary statistics for Wins and Homeruns in each evaluation."
   ]
  },
  {
   "cell_type": "code",
   "execution_count": 29,
   "metadata": {
    "scrolled": false
   },
   "outputs": [
    {
     "name": "stdout",
     "output_type": "stream",
     "text": [
      "                     \n",
      "Summary Statistics for Wins over each year since the beginning of baseball history\n",
      "---------------------\n"
     ]
    },
    {
     "data": {
      "text/plain": [
       "count    2835.000000\n",
       "mean       74.814109\n",
       "std        17.591208\n",
       "min         0.000000\n",
       "25%        66.000000\n",
       "50%        77.000000\n",
       "75%        87.000000\n",
       "max       116.000000\n",
       "Name: W, dtype: float64"
      ]
     },
     "execution_count": 29,
     "metadata": {},
     "output_type": "execute_result"
    },
    {
     "data": {
      "image/png": "[encoded data removed]",
      "text/plain": [
       "<matplotlib.figure.Figure at 0xc318a20>"
      ]
     },
     "metadata": {},
     "output_type": "display_data"
    }
   ],
   "source": [
    "# Making a boxplot for wins, grouped by year.\n",
    "teams.boxplot(column = 'W', by = 'yearID', figsize=(20,10), grid = True)\n",
    "print(\"                     \") # Clean Display\n",
    "print(\"Summary Statistics for Wins over each year since the beginning of baseball history\") # Clean Display\n",
    "print(\"---------------------\") # Clean Display\n",
    "teams['W'].describe() # Summary Statistics for wins"
   ]
  },
  {
   "cell_type": "markdown",
   "metadata": {},
   "source": [
    "#### First of all the summary statistics: Right away, you can tell the distribution is closer to normal than expected. The mean is only 2.2 below the median, only 13 % of a single standard deviation. If you look at the earlier years of the MLB, there were clearly less games played. After 10-15 seasons, the number of games increased drastically, and since then, barring work stoppage years, the distribution is basically normal.  "
   ]
  },
  {
   "cell_type": "code",
   "execution_count": 30,
   "metadata": {
    "scrolled": false
   },
   "outputs": [
    {
     "name": "stdout",
     "output_type": "stream",
     "text": [
      "                     \n",
      "Summary Statistics for Homeruns over each year since the beginning of baseball history\n",
      "---------------------\n"
     ]
    },
    {
     "data": {
      "text/plain": [
       "count    2835.000000\n",
       "mean      102.045150\n",
       "std        61.854749\n",
       "min         0.000000\n",
       "25%        42.000000\n",
       "50%       108.000000\n",
       "75%       150.000000\n",
       "max       264.000000\n",
       "Name: HR, dtype: float64"
      ]
     },
     "execution_count": 30,
     "metadata": {},
     "output_type": "execute_result"
    },
    {
     "data": {
      "image/png": "[encoded data removed]",
      "text/plain": [
       "<matplotlib.figure.Figure at 0x145e2a20>"
      ]
     },
     "metadata": {},
     "output_type": "display_data"
    }
   ],
   "source": [
    "# Create a Boxplot of team homeruns by year. \n",
    "teams.boxplot(column = 'HR', by = 'yearID', ax = None, figsize=(20,10))\n",
    "print(\"                     \") # Clean Display\n",
    "print(\"Summary Statistics for Homeruns over each year since the beginning of baseball history\") # Clean Display\n",
    "print(\"---------------------\") # Clean Display\n",
    "teams['HR'].describe() # Summary Statistics for Homeruns"
   ]
  },
  {
   "cell_type": "markdown",
   "metadata": {},
   "source": [
    "#### Homeruns are an entirely different story. Comparing the Mean to the median, they are close, but there is tremendous variation from year to year as shown above. A lot of the earlier years really didn't have much variation in homeruns by team per season at all. Interestingly enough, you can see a positive slope in the data. "
   ]
  },
  {
   "cell_type": "markdown",
   "metadata": {},
   "source": [
    "## Question 3 Answer - Since the beginning of baseball history, does a team's ability to hit homeruns translate into victories?\n",
    "\n",
    "#### This answer is tricky. It appears based on our correlation that there is a relationship between a team's homeruns and wins per season... but the question as posed provides us with too broad of a range to evaluate this information. Additionally, while Pearson's correlation does confirm a positive linear relationship between the data, more digging and fine tuning would need to be done to evaluate the statistical significance of the relationship between both homeruns per season, and wins per season.\n",
    "\n",
    "***"
   ]
  },
  {
   "cell_type": "markdown",
   "metadata": {},
   "source": [
    "# Wrap-Up\n",
    "\n",
    "### Exploring Baseball is a tremendous undertaking. We've looked at how a players batting average, and on base percentage can impact and change the outcomes of games. We've investigated historical results of players success, and found challenging, and overwhelming information that suggest further investigation is needed. One thing is for certain. None of the inferences made, or the theory's discussed have been proven, disproven, or even supported statistically speaking. This is just one of the beginning steps into determining exactly what it is that makes a team a winning team. Is it the players? Is it the team's combined efforts? Where should teams focus on the most? Hits? Homeruns? Getting on Base? None of this has been fully answered today. \n",
    "\n",
    "### What has been accomplished however, is an intriguing desire to learn more. I hope you have more questions now than when you started to read this. If you have... then we have accomplished our task. "
   ]
  },
  {
   "cell_type": "markdown",
   "metadata": {},
   "source": [
    "## References\n",
    "\n",
    "- <a href = http://www.seanlahman.com/baseball-archive/statistics/>Laman's Baseball Database</a>\n",
    "- <a href = http://mlb.com>Major League Baseball</a>\n",
    "- <a href = https://en.wikipedia.org/wiki/Baseball_statistics>Baseball Statistics Wikipedia</a>\n",
    "- <a href = https://stackoverflow.com/>Stack Overflow</a>"
   ]
  },
  {
   "cell_type": "code",
   "execution_count": null,
   "metadata": {
    "collapsed": true
   },
   "outputs": [],
   "source": []
  }
 ],
 "metadata": {
  "kernelspec": {
   "display_name": "Python 2",
   "language": "python",
   "name": "python2"
  },
  "language_info": {
   "codemirror_mode": {
    "name": "ipython",
    "version": 2
   },
   "file_extension": ".py",
   "mimetype": "text/x-python",
   "name": "python",
   "nbconvert_exporter": "python",
   "pygments_lexer": "ipython2",
   "version": "2.7.13"
  }
 },
 "nbformat": 4,
 "nbformat_minor": 2
}
